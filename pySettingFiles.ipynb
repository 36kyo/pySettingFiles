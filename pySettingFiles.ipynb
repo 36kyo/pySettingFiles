{
 "cells": [
  {
   "cell_type": "markdown",
   "metadata": {},
   "source": [
    "## ini\n",
    "* [configparser](https://docs.python.org/ja/3/library/configparser.html)\n",
    "\n",
    "    ```ini\n",
    "    [DEFAULT]\n",
    "    ServerAliveInterval = 45\n",
    "    Compression = yes\n",
    "    CompressionLevel = 9\n",
    "    ForwardX11 = yes\n",
    "\n",
    "    [bitbucket.org]\n",
    "    User = hg\n",
    "\n",
    "    [topsecret.server.com]\n",
    "    Port = 50022\n",
    "    ForwardX11 = no\n",
    "    ```\n"
   ]
  },
  {
   "cell_type": "code",
   "execution_count": 3,
   "metadata": {},
   "outputs": [],
   "source": [
    "import configparser"
   ]
  },
  {
   "cell_type": "code",
   "execution_count": 4,
   "metadata": {},
   "outputs": [],
   "source": [
    "config = configparser.ConfigParser()\n",
    "config['DEFAULT'] = {\n",
    "    'ServerAliveInterval': '45',\n",
    "    'Compression': 'yes',\n",
    "    'CompressionLevel': '9'}\n",
    "config['bitbucket.org'] = {}\n",
    "config['bitbucket.org']['User'] = 'hg'\n",
    "\n",
    "config['topsecret.server.com'] = {}\n",
    "topsecret = config['topsecret.server.com']\n",
    "topsecret['Port'] = '50022'     # mutates the parser\n",
    "topsecret['ForwardX11'] = 'no'  # same here\n",
    "config['DEFAULT']['ForwardX11'] = 'yes'\n",
    "with open('input/example.ini', 'w') as configfile:\n",
    "  config.write(configfile)"
   ]
  },
  {
   "cell_type": "code",
   "execution_count": 33,
   "metadata": {},
   "outputs": [
    {
     "name": "stdout",
     "output_type": "stream",
     "text": [
      "[DEFAULT]\n",
      "serveraliveinterval = 45\n",
      "compression = yes\n",
      "compressionlevel = 9\n",
      "forwardx11 = yes\n",
      "\n",
      "[bitbucket.org]\n",
      "user = hg\n",
      "\n",
      "[topsecret.server.com]\n",
      "port = 50022\n",
      "forwardx11 = no\n",
      "\n"
     ]
    }
   ],
   "source": [
    "# ファイルの中身を表示\n",
    "!cat ./input/example.ini"
   ]
  },
  {
   "cell_type": "code",
   "execution_count": 34,
   "metadata": {},
   "outputs": [
    {
     "name": "stdout",
     "output_type": "stream",
     "text": [
      "['input/example.ini']\n",
      "['bitbucket.org', 'topsecret.server.com']\n",
      "True\n",
      "False\n",
      "config['bitbucket.org']['User']:hg\n",
      "yes\n",
      "topsecret['ForwardX11']:\tno\n",
      "topsecret['Port']:\t50022\n",
      "config['bitbucket.org']:\n",
      "user\n",
      "serveraliveinterval\n",
      "compression\n",
      "compressionlevel\n",
      "forwardx11\n",
      "config['bitbucket.org']['ForwardX11']:\tyes\n"
     ]
    }
   ],
   "source": [
    "config = configparser.ConfigParser()\n",
    "print(config.read('input/example.ini'))\n",
    "print(config.sections())\n",
    "\n",
    "print('bitbucket.org' in config)\n",
    "print('bytebong.com' in config)\n",
    "\n",
    "try:\n",
    "    print(\"config['bitbucket.org']['User']:\" + config['bitbucket.org']['User'])\n",
    "except KeyError:\n",
    "    print(\"no user\")\n",
    "\n",
    "print(config['DEFAULT']['Compression'])\n",
    "\n",
    "topsecret = config['topsecret.server.com']\n",
    "print(\"topsecret['ForwardX11']:\\t\" + topsecret['ForwardX11'])\n",
    "print(\"topsecret['Port']:\\t\" + topsecret['Port'])\n",
    "\n",
    "print(\"config['bitbucket.org']:\")\n",
    "for key in config['bitbucket.org']:\n",
    "    print(key)\n",
    "    \n",
    "print(\"config['bitbucket.org']['ForwardX11']:\\t\" + config['bitbucket.org']['ForwardX11'])"
   ]
  },
  {
   "cell_type": "markdown",
   "metadata": {},
   "source": [
    "# yaml\n",
    "https://yaml.readthedocs.io/en/latest/"
   ]
  },
  {
   "cell_type": "code",
   "execution_count": 35,
   "metadata": {},
   "outputs": [
    {
     "name": "stdout",
     "output_type": "stream",
     "text": [
      "Requirement already satisfied: ruamel.yaml in c:\\users\\leno\\anaconda3\\lib\\site-packages (0.17.20)\n",
      "Requirement already satisfied: ruamel.yaml.clib>=0.2.6; platform_python_implementation == \"CPython\" and python_version < \"3.11\" in c:\\users\\leno\\anaconda3\\lib\\site-packages (from ruamel.yaml) (0.2.6)\n",
      "Note: you may need to restart the kernel to use updated packages.\n"
     ]
    }
   ],
   "source": [
    "%pip install ruamel.yaml"
   ]
  },
  {
   "cell_type": "code",
   "execution_count": 36,
   "metadata": {},
   "outputs": [
    {
     "data": {
      "text/plain": [
       "{'a': {'b': 2, 'c': 3}}"
      ]
     },
     "execution_count": 36,
     "metadata": {},
     "output_type": "execute_result"
    }
   ],
   "source": [
    "import sys\n",
    "from ruamel.yaml import YAML\n",
    "yaml=YAML(typ=\"safe\", pure=True)\n",
    "data = yaml.load(\"\"\"a:\\n  b: 2\\n  c: 3\\n\"\"\")\n",
    "data"
   ]
  },
  {
   "cell_type": "code",
   "execution_count": 37,
   "metadata": {},
   "outputs": [
    {
     "data": {
      "text/plain": [
       "{'a': {'b': 4, 'c': 3}}"
      ]
     },
     "execution_count": 37,
     "metadata": {},
     "output_type": "execute_result"
    }
   ],
   "source": [
    "data['a']['b'] = 4\n",
    "data"
   ]
  },
  {
   "cell_type": "code",
   "execution_count": 38,
   "metadata": {},
   "outputs": [
    {
     "name": "stdout",
     "output_type": "stream",
     "text": [
      "a: {b: 4, c: 3}\n"
     ]
    }
   ],
   "source": [
    "yaml.dump(data, sys.stdout)"
   ]
  },
  {
   "cell_type": "code",
   "execution_count": 82,
   "metadata": {},
   "outputs": [],
   "source": [
    "# test file\n",
    "# https://github.com/choreonoid/choreonoid/blob/master/share/model/PA10/PA10.body\n",
    "\n",
    "yaml.allow_duplicate_keys = True\n",
    "with open(file='input/PA10.body', mode='r', encoding='utf-8') as f:\n",
    "    data = yaml.load(f)\n"
   ]
  },
  {
   "cell_type": "code",
   "execution_count": 85,
   "metadata": {},
   "outputs": [],
   "source": [
    "# with open(file='output/PA10.body', mode='w', encoding='utf-8') as f:\n",
    "#     yaml.dump(data=data, stream=f, sort_keys=False)"
   ]
  },
  {
   "cell_type": "code",
   "execution_count": 86,
   "metadata": {},
   "outputs": [
    {
     "name": "stdout",
     "output_type": "stream",
     "text": [
      "format\n",
      "formatVersion\n",
      "angleUnit\n",
      "name\n",
      "links\n",
      "standardPose\n",
      "linkGroup\n",
      "possibleIkInterpolationLinks\n",
      "defaultIkInterpolationLinks\n",
      "possileSupportLinks\n",
      "defaultIKsetup\n",
      "collision_detection_rules\n",
      "bodyMarkers\n"
     ]
    }
   ],
   "source": [
    "for key in data:\n",
    "    print(key)"
   ]
  },
  {
   "cell_type": "code",
   "execution_count": 87,
   "metadata": {},
   "outputs": [
    {
     "name": "stdout",
     "output_type": "stream",
     "text": [
      "ChoreonoidBody\n",
      "1.0\n",
      "degree\n",
      "PA10\n"
     ]
    }
   ],
   "source": [
    "print(data['format'])\n",
    "print(data['formatVersion'])\n",
    "print(data['angleUnit'])\n",
    "print(data['name'])"
   ]
  },
  {
   "cell_type": "code",
   "execution_count": 88,
   "metadata": {},
   "outputs": [
    {
     "name": "stdout",
     "output_type": "stream",
     "text": [
      "---\n",
      "BASE\n",
      "parent:\tno key\n",
      "jointType:\tfixed\n",
      "jointAxis:\tno key\n",
      "jointId:\tno key\n",
      "translation:\tno key\n",
      "rotation:\tno key\n",
      "jointRange:\tno key\n",
      "---\n",
      "J1\n",
      "parent:\tBASE\n",
      "jointType:\trevolute\n",
      "jointAxis:\t[0, 0, 1]\n",
      "jointId:\t0\n",
      "translation:\t[0, 0, 0.2]\n",
      "rotation:\t[0, 0, 1, 0]\n",
      "jointRange:\t[-177, 177]\n",
      "---\n",
      "J2\n",
      "parent:\tJ1\n",
      "jointType:\trevolute\n",
      "jointAxis:\t[1, 0, 0]\n",
      "jointId:\t1\n",
      "translation:\t[0, 0, 0.115]\n",
      "rotation:\tno key\n",
      "jointRange:\t[-94, 94]\n",
      "---\n",
      "J3\n",
      "parent:\tJ2\n",
      "jointType:\trevolute\n",
      "jointAxis:\t[0, 0, 1]\n",
      "jointId:\t2\n",
      "translation:\t[0, 0, 0.28]\n",
      "rotation:\tno key\n",
      "jointRange:\t[-174, 174]\n",
      "---\n",
      "J4\n",
      "parent:\tJ3\n",
      "jointType:\trevolute\n",
      "jointAxis:\t[1, 0, 0]\n",
      "jointId:\t3\n",
      "translation:\t[0, 0, 0.17]\n",
      "rotation:\tno key\n",
      "jointRange:\t[-137, 137]\n",
      "---\n",
      "J5\n",
      "parent:\tJ4\n",
      "jointType:\trevolute\n",
      "jointAxis:\t[0, 0, 1]\n",
      "jointId:\t4\n",
      "translation:\t[0, 0, 0.25]\n",
      "rotation:\tno key\n",
      "jointRange:\t[-255, 255]\n",
      "---\n",
      "J6\n",
      "parent:\tJ5\n",
      "jointType:\trevolute\n",
      "jointAxis:\t[1, 0, 0]\n",
      "jointId:\t5\n",
      "translation:\t[-0.0025, 0, 0.25]\n",
      "rotation:\tno key\n",
      "jointRange:\t[-165, 165]\n",
      "---\n",
      "J7\n",
      "parent:\tJ6\n",
      "jointType:\trevolute\n",
      "jointAxis:\t[0, 0, 1]\n",
      "jointId:\t6\n",
      "translation:\t[0, 0, 0.08]\n",
      "rotation:\tno key\n",
      "jointRange:\t[-255, 255]\n",
      "---\n",
      "HAND_L\n",
      "parent:\tJ7\n",
      "jointType:\tprismatic\n",
      "jointAxis:\t[0, 1, 0]\n",
      "jointId:\t7\n",
      "translation:\t[0, 0, 0]\n",
      "rotation:\tno key\n",
      "jointRange:\t[-0.03, 0.03]\n",
      "---\n",
      "HAND_R\n",
      "parent:\tJ7\n",
      "jointType:\tprismatic\n",
      "jointAxis:\t[0, 1, 0]\n",
      "jointId:\t8\n",
      "translation:\t[0, 0, 0]\n",
      "rotation:\tno key\n",
      "jointRange:\t[-0.03, 0.03]\n"
     ]
    }
   ],
   "source": [
    "names = []\n",
    "for item in data['links']:\n",
    "    print('---')\n",
    "    print(item['name'])\n",
    "    # names.append(item['name'])\n",
    "    print('parent', end=':\\t')\n",
    "    try:\n",
    "        print(item['parent'])\n",
    "    except KeyError:\n",
    "        print('no key')\n",
    "\n",
    "    print('jointType', end=':\\t')\n",
    "    try:\n",
    "        print(item['jointType'])\n",
    "    except KeyError:\n",
    "        print('no key')\n",
    "    print('jointAxis', end=':\\t')\n",
    "    try:\n",
    "        print(item['jointAxis'])\n",
    "    except KeyError:\n",
    "        print('no key')\n",
    "    print('jointId', end=':\\t')\n",
    "    try:\n",
    "        print(item['jointId'])\n",
    "    except KeyError:\n",
    "        print('no key')\n",
    "    \n",
    "    print('translation', end=':\\t')\n",
    "    try:\n",
    "        print(item['translation'])\n",
    "    except KeyError:\n",
    "        print('no key')\n",
    "    \n",
    "    print('rotation', end=':\\t')\n",
    "    try:\n",
    "        print(item['rotation'])\n",
    "    except KeyError:\n",
    "        print('no key')\n",
    "    \n",
    "    print('jointRange', end=':\\t')\n",
    "    try:\n",
    "        print(item['jointRange'])\n",
    "    except KeyError:\n",
    "        print('no key')\n",
    "    \n",
    "    \n",
    "    # jointRange: [ -177, 177 ]\n",
    "    # jointVelocityRange: [ -180, 180 ]\n",
    "    # rotorInertia: 3.0E-4\n",
    "    # mass: 9.78\n",
    "    # centerOfMass: [ 0, 0, 0.14818 ]\n",
    "    # inertia: [\n",
    "    # print(item['jointType'])\n",
    "    \n",
    "    \n",
    "\n"
   ]
  },
  {
   "cell_type": "code",
   "execution_count": 90,
   "metadata": {},
   "outputs": [],
   "source": [
    "# data['links']['name'][0]"
   ]
  },
  {
   "cell_type": "code",
   "execution_count": null,
   "metadata": {},
   "outputs": [],
   "source": []
  }
 ],
 "metadata": {
  "interpreter": {
   "hash": "3175a66a84407666ea1804b2faaeaf9c6d88996a04f6d275ba1b158db117e02e"
  },
  "kernelspec": {
   "display_name": "Python 3.7.6 ('base')",
   "language": "python",
   "name": "python3"
  },
  "language_info": {
   "codemirror_mode": {
    "name": "ipython",
    "version": 3
   },
   "file_extension": ".py",
   "mimetype": "text/x-python",
   "name": "python",
   "nbconvert_exporter": "python",
   "pygments_lexer": "ipython3",
   "version": "3.7.6"
  },
  "orig_nbformat": 4
 },
 "nbformat": 4,
 "nbformat_minor": 2
}
